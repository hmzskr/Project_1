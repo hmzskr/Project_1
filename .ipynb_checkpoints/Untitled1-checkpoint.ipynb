{
 "cells": [
  {
   "cell_type": "code",
   "execution_count": 94,
   "metadata": {},
   "outputs": [
    {
     "ename": "ImportError",
     "evalue": "cannot import name 'ykey' from 'config' (D:\\Data_Analytics_Boot_Camp\\Projects\\Project_1\\config.py)",
     "output_type": "error",
     "traceback": [
      "\u001b[1;31m---------------------------------------------------------------------------\u001b[0m",
      "\u001b[1;31mImportError\u001b[0m                               Traceback (most recent call last)",
      "\u001b[1;32m<ipython-input-94-55400610556b>\u001b[0m in \u001b[0;36m<module>\u001b[1;34m\u001b[0m\n\u001b[0;32m      3\u001b[0m \u001b[1;32mimport\u001b[0m \u001b[0mjson\u001b[0m\u001b[1;33m\u001b[0m\u001b[1;33m\u001b[0m\u001b[0m\n\u001b[0;32m      4\u001b[0m \u001b[1;32mfrom\u001b[0m \u001b[0mpprint\u001b[0m \u001b[1;32mimport\u001b[0m \u001b[0mpprint\u001b[0m\u001b[1;33m\u001b[0m\u001b[1;33m\u001b[0m\u001b[0m\n\u001b[1;32m----> 5\u001b[1;33m \u001b[1;32mfrom\u001b[0m \u001b[0mconfig\u001b[0m \u001b[1;32mimport\u001b[0m \u001b[0mykey\u001b[0m\u001b[1;33m\u001b[0m\u001b[1;33m\u001b[0m\u001b[0m\n\u001b[0m\u001b[0;32m      6\u001b[0m \u001b[1;33m\u001b[0m\u001b[0m\n\u001b[0;32m      7\u001b[0m \u001b[0murl\u001b[0m\u001b[1;33m=\u001b[0m\u001b[1;34m'https://api.yelp.com/v3/businesses/search'\u001b[0m\u001b[1;33m\u001b[0m\u001b[1;33m\u001b[0m\u001b[0m\n",
      "\u001b[1;31mImportError\u001b[0m: cannot import name 'ykey' from 'config' (D:\\Data_Analytics_Boot_Camp\\Projects\\Project_1\\config.py)"
     ]
    }
   ],
   "source": [
    "# Dependencies\n",
    "import requests\n",
    "import json\n",
    "from pprint import pprint\n",
    "from config import ykey\n",
    "\n",
    "url='https://api.yelp.com/v3/businesses/search'\n",
    "api_key = 'Your key here'\n",
    "\n",
    "headers = {'Authorization': 'Bearer %s' % api_key}\n",
    "params = {'location':'New York City'}\n",
    "\n",
    "respone = requests.get(url, params, headers=headers)"
   ]
  },
  {
   "cell_type": "code",
   "execution_count": 30,
   "metadata": {},
   "outputs": [
    {
     "name": "stdout",
     "output_type": "stream",
     "text": [
      "281\n"
     ]
    }
   ],
   "source": [
    "# base_url = \"https://developers.zomato.com/api/v2.1/\"\n",
    "# locationUrlFromLatLong = f\"{base_url}cities?lat={lat}&lon={lng}\"\n",
    "# header = {\"User-agent\": \"curl/7.43.0\", \"Accept\": \"application/json\", \"user_key\": zkey}\n",
    "\n",
    "# response = requests.get(locationUrlFromLatLong, headers=header).json()\n",
    "\n",
    "# # pprint(response)\n",
    "\n",
    "# restaurants = response['location_suggestions'][0]['id']\n",
    "\n",
    "# print(city_id)"
   ]
  },
  {
   "cell_type": "code",
   "execution_count": 89,
   "metadata": {},
   "outputs": [
    {
     "data": {
      "text/plain": [
       "dict_keys(['location', 'popularity', 'link', 'nearby_restaurants'])"
      ]
     },
     "execution_count": 89,
     "metadata": {},
     "output_type": "execute_result"
    }
   ],
   "source": [
    "base_url = \"https://developers.zomato.com/api/v2.1/\"\n",
    "\n",
    "RestaurantUrlFromLatLong = f\"{base_url}geocode?lat={lat}&lon={lng}\"\n",
    "\n",
    "response = requests.get(RestaurantUrlFromLatLong, headers=header).json()\n",
    "\n",
    "response.keys()\n",
    "\n",
    "restaurants = response['nearby_restaurants']\n",
    "\n",
    "restaurant_list = []\n",
    "\n",
    "response.keys()"
   ]
  },
  {
   "cell_type": "code",
   "execution_count": 93,
   "metadata": {},
   "outputs": [
    {
     "data": {
      "text/plain": [
       "{'R': {'res_id': 16819715},\n",
       " 'apikey': 'f62f628ad90d9b12ad70903eb7b30f41',\n",
       " 'id': '16819715',\n",
       " 'name': 'Philippe, The Original',\n",
       " 'url': 'https://www.zomato.com/los-angeles/philippe-the-original-chinatown?utm_source=api_basic_user&utm_medium=api&utm_campaign=v2.1',\n",
       " 'location': {'address': '1001 N Alameda Street, Los Angeles 90012',\n",
       "  'locality': 'North Alameda Street, Chinatown',\n",
       "  'city': 'Los Angeles',\n",
       "  'city_id': 281,\n",
       "  'latitude': '34.0597210000',\n",
       "  'longitude': '-118.2370250000',\n",
       "  'zipcode': '90012',\n",
       "  'country_id': 216,\n",
       "  'locality_verbose': 'North Alameda Street, Chinatown, Los Angeles'},\n",
       " 'switch_to_order_menu': 0,\n",
       " 'cuisines': 'American, Sandwich',\n",
       " 'average_cost_for_two': 20,\n",
       " 'price_range': 2,\n",
       " 'currency': '$',\n",
       " 'offers': [],\n",
       " 'opentable_support': 0,\n",
       " 'is_zomato_book_res': 0,\n",
       " 'mezzo_provider': 'OTHER',\n",
       " 'is_book_form_web_view': 0,\n",
       " 'book_form_web_view_url': '',\n",
       " 'book_again_url': '',\n",
       " 'thumb': 'https://b.zmtcdn.com/data/res_imagery/16819715_RESTAURANT_d8c5a8adc5406e3a159186b82b1b3d56_c.jpg?fit=around%7C200%3A200&crop=200%3A200%3B%2A%2C%2A',\n",
       " 'user_rating': {'aggregate_rating': '4.9',\n",
       "  'rating_text': 'Excellent',\n",
       "  'rating_color': '3F7E00',\n",
       "  'votes': '675',\n",
       "  'has_fake_reviews': 0},\n",
       " 'photos_url': 'https://www.zomato.com/los-angeles/philippe-the-original-chinatown/photos?utm_source=api_basic_user&utm_medium=api&utm_campaign=v2.1#tabtop',\n",
       " 'menu_url': 'https://www.zomato.com/los-angeles/philippe-the-original-chinatown/menu?utm_source=api_basic_user&utm_medium=api&utm_campaign=v2.1&openSwipeBox=menu&showMinimal=1#tabtop',\n",
       " 'featured_image': 'https://b.zmtcdn.com/data/res_imagery/16819715_RESTAURANT_d8c5a8adc5406e3a159186b82b1b3d56_c.jpg',\n",
       " 'has_online_delivery': 0,\n",
       " 'is_delivering_now': 0,\n",
       " 'has_fake_reviews': 0,\n",
       " 'include_bogo_offers': True,\n",
       " 'deeplink': 'zomato://restaurant/16819715',\n",
       " 'is_table_reservation_supported': 0,\n",
       " 'has_table_booking': 0,\n",
       " 'events_url': 'https://www.zomato.com/los-angeles/philippe-the-original-chinatown/events#tabtop?utm_source=api_basic_user&utm_medium=api&utm_campaign=v2.1'}"
      ]
     },
     "execution_count": 93,
     "metadata": {},
     "output_type": "execute_result"
    }
   ],
   "source": [
    "response['nearby_restaurants'][0]['restaurant']"
   ]
  },
  {
   "cell_type": "code",
   "execution_count": 84,
   "metadata": {},
   "outputs": [],
   "source": [
    "for restaurant in restaurants:\n",
    "    restaurant_list.append(restaurant['restaurant']['name'])"
   ]
  },
  {
   "cell_type": "code",
   "execution_count": 85,
   "metadata": {},
   "outputs": [
    {
     "data": {
      "text/plain": [
       "['Philippe, The Original',\n",
       " 'Bottega Louie',\n",
       " 'Wurstküche',\n",
       " 'Daikokuya',\n",
       " 'Nickel Diner',\n",
       " 'Perch',\n",
       " 'Orochon Ramen',\n",
       " 'Sushi Gen',\n",
       " 'Eggslut']"
      ]
     },
     "execution_count": 85,
     "metadata": {},
     "output_type": "execute_result"
    }
   ],
   "source": [
    "restaurant_list"
   ]
  },
  {
   "cell_type": "code",
   "execution_count": null,
   "metadata": {},
   "outputs": [],
   "source": []
  }
 ],
 "metadata": {
  "kernelspec": {
   "display_name": "Python 3",
   "language": "python",
   "name": "python3"
  },
  "language_info": {
   "codemirror_mode": {
    "name": "ipython",
    "version": 3
   },
   "file_extension": ".py",
   "mimetype": "text/x-python",
   "name": "python",
   "nbconvert_exporter": "python",
   "pygments_lexer": "ipython3",
   "version": "3.7.1"
  }
 },
 "nbformat": 4,
 "nbformat_minor": 2
}
